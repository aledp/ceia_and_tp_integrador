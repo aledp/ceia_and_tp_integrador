{
  "cells": [
    {
      "cell_type": "markdown",
      "metadata": {
        "id": "view-in-github",
        "colab_type": "text"
      },
      "source": [
        "<a href=\"https://colab.research.google.com/github/aledp/ceia_and_tp_integrador/blob/main/tp_integradorCODIFICACIONfinal.ipynb\" target=\"_parent\"><img src=\"https://colab.research.google.com/assets/colab-badge.svg\" alt=\"Open In Colab\"/></a>"
      ]
    },
    {
      "cell_type": "markdown",
      "id": "8d442a2d",
      "metadata": {
        "id": "8d442a2d"
      },
      "source": [
        "# Trabajo Integrador - Análisis de Datos - CEIA - Cohorte 11"
      ]
    },
    {
      "cell_type": "markdown",
      "id": "aa5ef689",
      "metadata": {
        "id": "aa5ef689"
      },
      "source": [
        "## Integrantes del grupo\n",
        "María Alejandra Del Porto - alejandradelporto@gmail.com<br>\n",
        "Juan Ignacio Munar - juanimunar@gmail.com<br>\n",
        "Federico Otero - fede.e.otero@gmail.com<br>"
      ]
    },
    {
      "cell_type": "markdown",
      "id": "16be82ad",
      "metadata": {
        "id": "16be82ad"
      },
      "source": [
        "## 2. EDA Inicial"
      ]
    },
    {
      "cell_type": "markdown",
      "id": "0fe2c316",
      "metadata": {
        "id": "0fe2c316"
      },
      "source": [
        "Tenemos más de 3000 valores distintos para la variable compuesta fecha/hora. Considermos transformar esta variable **mapeándola con los meses del año correspondiente**. De esta manera, la convertimos en una variable categórica y podemos utilizarla, previa codificación, como feature de nuestro modelo."
      ]
    },
    {
      "cell_type": "markdown",
      "id": "82200163",
      "metadata": {
        "id": "82200163"
      },
      "source": [
        "### Encoding"
      ]
    },
    {
      "cell_type": "code",
      "source": [
        "df2=df_imputed"
      ],
      "metadata": {
        "id": "vIiOjlSVCOcW"
      },
      "id": "vIiOjlSVCOcW",
      "execution_count": 177,
      "outputs": []
    },
    {
      "cell_type": "markdown",
      "id": "b985c814",
      "metadata": {
        "id": "b985c814"
      },
      "source": [
        "- **Variables: 'WindGustDir' , 'WindDir9am', 'WindDir3pm'**\n",
        "\n",
        "Esta variable tiene una cardinalidad baja (16 categorias) y es cíclica. Por ellos se propone una codificación que represente este comportamiento:\n",
        "\n",
        "  -->  Binary encoding\n",
        "\n",
        "\n",
        "\n",
        "\n",
        "- **RainToday**:\n",
        "\n",
        "Es una variable con dos categorias posibles.\n",
        "\n",
        "-->   Binary encoding One Hot encoding k-1\n",
        "\n",
        "\n",
        "\n",
        "- **Location**:\n",
        "\n",
        "Esta variable tiene una cardinalidad alta (49 categorias). Por lo tanto, lo ideal sería optar por una técnica de codificación que no aumente considerablemente la dimensionalidad.\n",
        "Por otro lado, el problema consiste en una clasificación binaria. Por ejemplo, se podría utilizar un modelo de regresión logística. Entonces la técnica de codificacióna probar tiene que ser compatible con esto:\n",
        "\n",
        "  -->   Binary encoding"
      ]
    },
    {
      "cell_type": "markdown",
      "id": "6816e369",
      "metadata": {
        "id": "6816e369"
      },
      "source": [
        "**Encoding de las dirrecciones del viento**\n",
        "\n",
        "'WindGustDir' , 'WindDir9am', 'WindDir3pm'**"
      ]
    },
    {
      "cell_type": "code",
      "execution_count": 165,
      "id": "9881a02b",
      "metadata": {
        "colab": {
          "base_uri": "https://localhost:8080/"
        },
        "id": "9881a02b",
        "outputId": "5a73486e-54cf-4356-bd47-c8f20144325d"
      },
      "outputs": [
        {
          "output_type": "execute_result",
          "data": {
            "text/plain": [
              "{'E': 0,\n",
              " 'ENE': 0.39269908169872414,\n",
              " 'NE': 0.7853981633974483,\n",
              " 'NNE': 1.1780972450961724,\n",
              " 'N': 1.5707963267948966,\n",
              " 'NNW': 1.9634954084936207,\n",
              " 'NW': 2.356194490192345,\n",
              " 'WNW': 2.748893571891069,\n",
              " 'W': 3.141592653589793,\n",
              " 'WSW': 3.5342917352885173,\n",
              " 'SW': 3.9269908169872414,\n",
              " 'SSW': 4.319689898685965,\n",
              " 'S': 4.71238898038469,\n",
              " 'SSE': 5.105088062083414,\n",
              " 'SE': 5.497787143782138,\n",
              " 'ESE': 5.890486225480862}"
            ]
          },
          "metadata": {},
          "execution_count": 165
        }
      ],
      "source": [
        "# Ángulos en radianes\n",
        "direcciones_rad = {'E':0, 'ENE':np.pi*1/8, 'NE':np.pi*2/8, 'NNE':np.pi*3/8,\n",
        "                   'N':np.pi*4/8, 'NNW':np.pi*5/8, 'NW':np.pi*6/8, 'WNW':np.pi*7/8,\n",
        "                   'W':np.pi*8/8, 'WSW':np.pi*9/8, 'SW':np.pi*10/8, 'SSW':np.pi*11/8,\n",
        "                   'S':np.pi*12/8, 'SSE':np.pi*13/8, 'SE':np.pi*14/8, 'ESE':np.pi*15/8}\n",
        "direcciones_rad"
      ]
    },
    {
      "cell_type": "code",
      "source": [
        "df2.info()"
      ],
      "metadata": {
        "colab": {
          "base_uri": "https://localhost:8080/"
        },
        "id": "KAKKEDT5CRpO",
        "outputId": "4251c8dd-ae0b-4579-bf47-17bd0e0c5028"
      },
      "id": "KAKKEDT5CRpO",
      "execution_count": 178,
      "outputs": [
        {
          "output_type": "stream",
          "name": "stdout",
          "text": [
            "<class 'pandas.core.frame.DataFrame'>\n",
            "RangeIndex: 145460 entries, 0 to 145459\n",
            "Data columns (total 31 columns):\n",
            " #   Column                 Non-Null Count   Dtype  \n",
            "---  ------                 --------------   -----  \n",
            " 0   MinTemp                145460 non-null  float64\n",
            " 1   MaxTemp                145460 non-null  float64\n",
            " 2   Rainfall               145460 non-null  float64\n",
            " 3   Humidity9am            145460 non-null  float64\n",
            " 4   Humidity3pm            145460 non-null  float64\n",
            " 5   Pressure9am            145460 non-null  float64\n",
            " 6   Pressure3pm            145460 non-null  float64\n",
            " 7   Temp9am                145460 non-null  float64\n",
            " 8   Temp3pm                145460 non-null  float64\n",
            " 9   MinTemp_imputed        145460 non-null  float64\n",
            " 10  MaxTemp_imputed        145460 non-null  float64\n",
            " 11  Rainfall_imputed       145460 non-null  float64\n",
            " 12  Humidity9am_imputed    145460 non-null  float64\n",
            " 13  Humidity3pm_imputed    145460 non-null  float64\n",
            " 14  Pressure9am_imputed    145460 non-null  float64\n",
            " 15  Pressure3pm_imputed    145460 non-null  float64\n",
            " 16  Temp9am_imputed        145460 non-null  float64\n",
            " 17  Temp3pm_imputed        145460 non-null  float64\n",
            " 18  WindGustSpeed          145460 non-null  float64\n",
            " 19  WindSpeed9am           145460 non-null  float64\n",
            " 20  WindSpeed3pm           145460 non-null  float64\n",
            " 21  WindGustSpeed_imputed  145460 non-null  float64\n",
            " 22  WindSpeed9am_imputed   145460 non-null  float64\n",
            " 23  WindSpeed3pm_imputed   145460 non-null  float64\n",
            " 24  Location               145460 non-null  object \n",
            " 25  Date                   145460 non-null  object \n",
            " 26  RainToday              142199 non-null  object \n",
            " 27  RainTomorrow           144202 non-null  object \n",
            " 28  WindGustDir            145460 non-null  object \n",
            " 29  WindDir9am             145460 non-null  object \n",
            " 30  WindDir3pm             145460 non-null  object \n",
            "dtypes: float64(24), object(7)\n",
            "memory usage: 34.4+ MB\n"
          ]
        }
      ]
    },
    {
      "cell_type": "code",
      "execution_count": 180,
      "id": "ccd11f1a",
      "metadata": {
        "id": "ccd11f1a"
      },
      "outputs": [],
      "source": [
        "df2 = df.dropna()\n",
        "df2['angulo_WindGustDir'] = df2['WindGustDir'].map(lambda x: direcciones_rad.get(x, None))\n",
        "df2['x_WindGustDir'] = df2['angulo_WindGustDir'].map(lambda x: np.cos(x))\n",
        "df2['y_WindGustDir'] = df2['angulo_WindGustDir'].map(lambda y: np.cos(y))\n",
        "\n"
      ]
    },
    {
      "cell_type": "code",
      "source": [
        "df2['angulo_WindDir9am'] = df2['WindDir9am'].map(lambda x: direcciones_rad.get(x, None))\n",
        "df2['x_WindDir9am'] = df2['angulo_WindDir9am'].map(lambda x: np.cos(x))\n",
        "df2['y_WindDir9am'] = df2['angulo_WindDir9am'].map(lambda y: np.cos(y))\n"
      ],
      "metadata": {
        "id": "JNi0xyw6_T32"
      },
      "id": "JNi0xyw6_T32",
      "execution_count": 181,
      "outputs": []
    },
    {
      "cell_type": "code",
      "source": [
        "df2['angulo_WindDir3pm'] = df2['WindDir3pm'].map(lambda x: direcciones_rad.get(x, None))\n",
        "df2['x_WindDir3pm'] = df2['angulo_WindDir3pm'].map(lambda x: np.cos(x))\n",
        "df2['y_WindDir3pm'] = df2['angulo_WindDir3pm'].map(lambda y: np.cos(y))"
      ],
      "metadata": {
        "id": "dx5j_ATp_v-G"
      },
      "id": "dx5j_ATp_v-G",
      "execution_count": 182,
      "outputs": []
    },
    {
      "cell_type": "markdown",
      "source": [
        "**Enconding de 'RainToday'**"
      ],
      "metadata": {
        "id": "MLAB3Rv0z47z"
      },
      "id": "MLAB3Rv0z47z"
    },
    {
      "cell_type": "code",
      "execution_count": 183,
      "id": "070a792b",
      "metadata": {
        "id": "070a792b"
      },
      "outputs": [],
      "source": [
        "# One Hot Encoder\n",
        "ohe = OneHotEncoder(categories='auto',drop='first', sparse_output=False)"
      ]
    },
    {
      "cell_type": "code",
      "source": [
        "ohe.fit(df2[['RainToday']].fillna('NA'))"
      ],
      "metadata": {
        "colab": {
          "base_uri": "https://localhost:8080/",
          "height": 74
        },
        "id": "j4uT5b7D4TUX",
        "outputId": "ab700484-7eed-4ec0-9ef9-715f278212e3"
      },
      "id": "j4uT5b7D4TUX",
      "execution_count": 184,
      "outputs": [
        {
          "output_type": "execute_result",
          "data": {
            "text/plain": [
              "OneHotEncoder(drop='first', sparse_output=False)"
            ],
            "text/html": [
              "<style>#sk-container-id-9 {color: black;background-color: white;}#sk-container-id-9 pre{padding: 0;}#sk-container-id-9 div.sk-toggleable {background-color: white;}#sk-container-id-9 label.sk-toggleable__label {cursor: pointer;display: block;width: 100%;margin-bottom: 0;padding: 0.3em;box-sizing: border-box;text-align: center;}#sk-container-id-9 label.sk-toggleable__label-arrow:before {content: \"▸\";float: left;margin-right: 0.25em;color: #696969;}#sk-container-id-9 label.sk-toggleable__label-arrow:hover:before {color: black;}#sk-container-id-9 div.sk-estimator:hover label.sk-toggleable__label-arrow:before {color: black;}#sk-container-id-9 div.sk-toggleable__content {max-height: 0;max-width: 0;overflow: hidden;text-align: left;background-color: #f0f8ff;}#sk-container-id-9 div.sk-toggleable__content pre {margin: 0.2em;color: black;border-radius: 0.25em;background-color: #f0f8ff;}#sk-container-id-9 input.sk-toggleable__control:checked~div.sk-toggleable__content {max-height: 200px;max-width: 100%;overflow: auto;}#sk-container-id-9 input.sk-toggleable__control:checked~label.sk-toggleable__label-arrow:before {content: \"▾\";}#sk-container-id-9 div.sk-estimator input.sk-toggleable__control:checked~label.sk-toggleable__label {background-color: #d4ebff;}#sk-container-id-9 div.sk-label input.sk-toggleable__control:checked~label.sk-toggleable__label {background-color: #d4ebff;}#sk-container-id-9 input.sk-hidden--visually {border: 0;clip: rect(1px 1px 1px 1px);clip: rect(1px, 1px, 1px, 1px);height: 1px;margin: -1px;overflow: hidden;padding: 0;position: absolute;width: 1px;}#sk-container-id-9 div.sk-estimator {font-family: monospace;background-color: #f0f8ff;border: 1px dotted black;border-radius: 0.25em;box-sizing: border-box;margin-bottom: 0.5em;}#sk-container-id-9 div.sk-estimator:hover {background-color: #d4ebff;}#sk-container-id-9 div.sk-parallel-item::after {content: \"\";width: 100%;border-bottom: 1px solid gray;flex-grow: 1;}#sk-container-id-9 div.sk-label:hover label.sk-toggleable__label {background-color: #d4ebff;}#sk-container-id-9 div.sk-serial::before {content: \"\";position: absolute;border-left: 1px solid gray;box-sizing: border-box;top: 0;bottom: 0;left: 50%;z-index: 0;}#sk-container-id-9 div.sk-serial {display: flex;flex-direction: column;align-items: center;background-color: white;padding-right: 0.2em;padding-left: 0.2em;position: relative;}#sk-container-id-9 div.sk-item {position: relative;z-index: 1;}#sk-container-id-9 div.sk-parallel {display: flex;align-items: stretch;justify-content: center;background-color: white;position: relative;}#sk-container-id-9 div.sk-item::before, #sk-container-id-9 div.sk-parallel-item::before {content: \"\";position: absolute;border-left: 1px solid gray;box-sizing: border-box;top: 0;bottom: 0;left: 50%;z-index: -1;}#sk-container-id-9 div.sk-parallel-item {display: flex;flex-direction: column;z-index: 1;position: relative;background-color: white;}#sk-container-id-9 div.sk-parallel-item:first-child::after {align-self: flex-end;width: 50%;}#sk-container-id-9 div.sk-parallel-item:last-child::after {align-self: flex-start;width: 50%;}#sk-container-id-9 div.sk-parallel-item:only-child::after {width: 0;}#sk-container-id-9 div.sk-dashed-wrapped {border: 1px dashed gray;margin: 0 0.4em 0.5em 0.4em;box-sizing: border-box;padding-bottom: 0.4em;background-color: white;}#sk-container-id-9 div.sk-label label {font-family: monospace;font-weight: bold;display: inline-block;line-height: 1.2em;}#sk-container-id-9 div.sk-label-container {text-align: center;}#sk-container-id-9 div.sk-container {/* jupyter's `normalize.less` sets `[hidden] { display: none; }` but bootstrap.min.css set `[hidden] { display: none !important; }` so we also need the `!important` here to be able to override the default hidden behavior on the sphinx rendered scikit-learn.org. See: https://github.com/scikit-learn/scikit-learn/issues/21755 */display: inline-block !important;position: relative;}#sk-container-id-9 div.sk-text-repr-fallback {display: none;}</style><div id=\"sk-container-id-9\" class=\"sk-top-container\"><div class=\"sk-text-repr-fallback\"><pre>OneHotEncoder(drop=&#x27;first&#x27;, sparse_output=False)</pre><b>In a Jupyter environment, please rerun this cell to show the HTML representation or trust the notebook. <br />On GitHub, the HTML representation is unable to render, please try loading this page with nbviewer.org.</b></div><div class=\"sk-container\" hidden><div class=\"sk-item\"><div class=\"sk-estimator sk-toggleable\"><input class=\"sk-toggleable__control sk-hidden--visually\" id=\"sk-estimator-id-9\" type=\"checkbox\" checked><label for=\"sk-estimator-id-9\" class=\"sk-toggleable__label sk-toggleable__label-arrow\">OneHotEncoder</label><div class=\"sk-toggleable__content\"><pre>OneHotEncoder(drop=&#x27;first&#x27;, sparse_output=False)</pre></div></div></div></div></div>"
            ]
          },
          "metadata": {},
          "execution_count": 184
        }
      ]
    },
    {
      "cell_type": "code",
      "source": [
        "df2[['RainToday']] = ohe.transform(df2[['RainToday']].fillna('NA'))"
      ],
      "metadata": {
        "id": "o0qqaHhZ4dFv"
      },
      "id": "o0qqaHhZ4dFv",
      "execution_count": 186,
      "outputs": []
    },
    {
      "cell_type": "markdown",
      "source": [
        "**Enconding de 'Location'**"
      ],
      "metadata": {
        "id": "qxLY6hck5ROU"
      },
      "id": "qxLY6hck5ROU"
    },
    {
      "cell_type": "code",
      "source": [
        "# Binary Encoder\n",
        "BiEncoder = BinaryEncoder(cols=['Location'])\n",
        "location_encoded = BiEncoder.fit_transform(df2['Location'])\n",
        "location_encoded"
      ],
      "metadata": {
        "colab": {
          "base_uri": "https://localhost:8080/",
          "height": 423
        },
        "id": "xMiGd0Mi8467",
        "outputId": "b0270c7f-a943-4426-b0a8-a0e8cd962dbd"
      },
      "id": "xMiGd0Mi8467",
      "execution_count": 189,
      "outputs": [
        {
          "output_type": "execute_result",
          "data": {
            "text/plain": [
              "        Location_0  Location_1  Location_2  Location_3  Location_4  Location_5\n",
              "0                0           0           0           0           0           1\n",
              "1                0           0           0           0           0           1\n",
              "2                0           0           0           0           0           1\n",
              "3                0           0           0           0           0           1\n",
              "4                0           0           0           0           0           1\n",
              "...            ...         ...         ...         ...         ...         ...\n",
              "145454           1           0           1           1           0           0\n",
              "145455           1           0           1           1           0           0\n",
              "145456           1           0           1           1           0           0\n",
              "145457           1           0           1           1           0           0\n",
              "145458           1           0           1           1           0           0\n",
              "\n",
              "[120336 rows x 6 columns]"
            ],
            "text/html": [
              "\n",
              "  <div id=\"df-9ca201fe-19ae-4f78-bad4-84d93e7fba6d\" class=\"colab-df-container\">\n",
              "    <div>\n",
              "<style scoped>\n",
              "    .dataframe tbody tr th:only-of-type {\n",
              "        vertical-align: middle;\n",
              "    }\n",
              "\n",
              "    .dataframe tbody tr th {\n",
              "        vertical-align: top;\n",
              "    }\n",
              "\n",
              "    .dataframe thead th {\n",
              "        text-align: right;\n",
              "    }\n",
              "</style>\n",
              "<table border=\"1\" class=\"dataframe\">\n",
              "  <thead>\n",
              "    <tr style=\"text-align: right;\">\n",
              "      <th></th>\n",
              "      <th>Location_0</th>\n",
              "      <th>Location_1</th>\n",
              "      <th>Location_2</th>\n",
              "      <th>Location_3</th>\n",
              "      <th>Location_4</th>\n",
              "      <th>Location_5</th>\n",
              "    </tr>\n",
              "  </thead>\n",
              "  <tbody>\n",
              "    <tr>\n",
              "      <th>0</th>\n",
              "      <td>0</td>\n",
              "      <td>0</td>\n",
              "      <td>0</td>\n",
              "      <td>0</td>\n",
              "      <td>0</td>\n",
              "      <td>1</td>\n",
              "    </tr>\n",
              "    <tr>\n",
              "      <th>1</th>\n",
              "      <td>0</td>\n",
              "      <td>0</td>\n",
              "      <td>0</td>\n",
              "      <td>0</td>\n",
              "      <td>0</td>\n",
              "      <td>1</td>\n",
              "    </tr>\n",
              "    <tr>\n",
              "      <th>2</th>\n",
              "      <td>0</td>\n",
              "      <td>0</td>\n",
              "      <td>0</td>\n",
              "      <td>0</td>\n",
              "      <td>0</td>\n",
              "      <td>1</td>\n",
              "    </tr>\n",
              "    <tr>\n",
              "      <th>3</th>\n",
              "      <td>0</td>\n",
              "      <td>0</td>\n",
              "      <td>0</td>\n",
              "      <td>0</td>\n",
              "      <td>0</td>\n",
              "      <td>1</td>\n",
              "    </tr>\n",
              "    <tr>\n",
              "      <th>4</th>\n",
              "      <td>0</td>\n",
              "      <td>0</td>\n",
              "      <td>0</td>\n",
              "      <td>0</td>\n",
              "      <td>0</td>\n",
              "      <td>1</td>\n",
              "    </tr>\n",
              "    <tr>\n",
              "      <th>...</th>\n",
              "      <td>...</td>\n",
              "      <td>...</td>\n",
              "      <td>...</td>\n",
              "      <td>...</td>\n",
              "      <td>...</td>\n",
              "      <td>...</td>\n",
              "    </tr>\n",
              "    <tr>\n",
              "      <th>145454</th>\n",
              "      <td>1</td>\n",
              "      <td>0</td>\n",
              "      <td>1</td>\n",
              "      <td>1</td>\n",
              "      <td>0</td>\n",
              "      <td>0</td>\n",
              "    </tr>\n",
              "    <tr>\n",
              "      <th>145455</th>\n",
              "      <td>1</td>\n",
              "      <td>0</td>\n",
              "      <td>1</td>\n",
              "      <td>1</td>\n",
              "      <td>0</td>\n",
              "      <td>0</td>\n",
              "    </tr>\n",
              "    <tr>\n",
              "      <th>145456</th>\n",
              "      <td>1</td>\n",
              "      <td>0</td>\n",
              "      <td>1</td>\n",
              "      <td>1</td>\n",
              "      <td>0</td>\n",
              "      <td>0</td>\n",
              "    </tr>\n",
              "    <tr>\n",
              "      <th>145457</th>\n",
              "      <td>1</td>\n",
              "      <td>0</td>\n",
              "      <td>1</td>\n",
              "      <td>1</td>\n",
              "      <td>0</td>\n",
              "      <td>0</td>\n",
              "    </tr>\n",
              "    <tr>\n",
              "      <th>145458</th>\n",
              "      <td>1</td>\n",
              "      <td>0</td>\n",
              "      <td>1</td>\n",
              "      <td>1</td>\n",
              "      <td>0</td>\n",
              "      <td>0</td>\n",
              "    </tr>\n",
              "  </tbody>\n",
              "</table>\n",
              "<p>120336 rows × 6 columns</p>\n",
              "</div>\n",
              "    <div class=\"colab-df-buttons\">\n",
              "\n",
              "  <div class=\"colab-df-container\">\n",
              "    <button class=\"colab-df-convert\" onclick=\"convertToInteractive('df-9ca201fe-19ae-4f78-bad4-84d93e7fba6d')\"\n",
              "            title=\"Convert this dataframe to an interactive table.\"\n",
              "            style=\"display:none;\">\n",
              "\n",
              "  <svg xmlns=\"http://www.w3.org/2000/svg\" height=\"24px\" viewBox=\"0 -960 960 960\">\n",
              "    <path d=\"M120-120v-720h720v720H120Zm60-500h600v-160H180v160Zm220 220h160v-160H400v160Zm0 220h160v-160H400v160ZM180-400h160v-160H180v160Zm440 0h160v-160H620v160ZM180-180h160v-160H180v160Zm440 0h160v-160H620v160Z\"/>\n",
              "  </svg>\n",
              "    </button>\n",
              "\n",
              "  <style>\n",
              "    .colab-df-container {\n",
              "      display:flex;\n",
              "      gap: 12px;\n",
              "    }\n",
              "\n",
              "    .colab-df-convert {\n",
              "      background-color: #E8F0FE;\n",
              "      border: none;\n",
              "      border-radius: 50%;\n",
              "      cursor: pointer;\n",
              "      display: none;\n",
              "      fill: #1967D2;\n",
              "      height: 32px;\n",
              "      padding: 0 0 0 0;\n",
              "      width: 32px;\n",
              "    }\n",
              "\n",
              "    .colab-df-convert:hover {\n",
              "      background-color: #E2EBFA;\n",
              "      box-shadow: 0px 1px 2px rgba(60, 64, 67, 0.3), 0px 1px 3px 1px rgba(60, 64, 67, 0.15);\n",
              "      fill: #174EA6;\n",
              "    }\n",
              "\n",
              "    .colab-df-buttons div {\n",
              "      margin-bottom: 4px;\n",
              "    }\n",
              "\n",
              "    [theme=dark] .colab-df-convert {\n",
              "      background-color: #3B4455;\n",
              "      fill: #D2E3FC;\n",
              "    }\n",
              "\n",
              "    [theme=dark] .colab-df-convert:hover {\n",
              "      background-color: #434B5C;\n",
              "      box-shadow: 0px 1px 3px 1px rgba(0, 0, 0, 0.15);\n",
              "      filter: drop-shadow(0px 1px 2px rgba(0, 0, 0, 0.3));\n",
              "      fill: #FFFFFF;\n",
              "    }\n",
              "  </style>\n",
              "\n",
              "    <script>\n",
              "      const buttonEl =\n",
              "        document.querySelector('#df-9ca201fe-19ae-4f78-bad4-84d93e7fba6d button.colab-df-convert');\n",
              "      buttonEl.style.display =\n",
              "        google.colab.kernel.accessAllowed ? 'block' : 'none';\n",
              "\n",
              "      async function convertToInteractive(key) {\n",
              "        const element = document.querySelector('#df-9ca201fe-19ae-4f78-bad4-84d93e7fba6d');\n",
              "        const dataTable =\n",
              "          await google.colab.kernel.invokeFunction('convertToInteractive',\n",
              "                                                    [key], {});\n",
              "        if (!dataTable) return;\n",
              "\n",
              "        const docLinkHtml = 'Like what you see? Visit the ' +\n",
              "          '<a target=\"_blank\" href=https://colab.research.google.com/notebooks/data_table.ipynb>data table notebook</a>'\n",
              "          + ' to learn more about interactive tables.';\n",
              "        element.innerHTML = '';\n",
              "        dataTable['output_type'] = 'display_data';\n",
              "        await google.colab.output.renderOutput(dataTable, element);\n",
              "        const docLink = document.createElement('div');\n",
              "        docLink.innerHTML = docLinkHtml;\n",
              "        element.appendChild(docLink);\n",
              "      }\n",
              "    </script>\n",
              "  </div>\n",
              "\n",
              "\n",
              "<div id=\"df-7a1929ea-9251-4a8d-b3d9-3d2ec348e868\">\n",
              "  <button class=\"colab-df-quickchart\" onclick=\"quickchart('df-7a1929ea-9251-4a8d-b3d9-3d2ec348e868')\"\n",
              "            title=\"Suggest charts.\"\n",
              "            style=\"display:none;\">\n",
              "\n",
              "<svg xmlns=\"http://www.w3.org/2000/svg\" height=\"24px\"viewBox=\"0 0 24 24\"\n",
              "     width=\"24px\">\n",
              "    <g>\n",
              "        <path d=\"M19 3H5c-1.1 0-2 .9-2 2v14c0 1.1.9 2 2 2h14c1.1 0 2-.9 2-2V5c0-1.1-.9-2-2-2zM9 17H7v-7h2v7zm4 0h-2V7h2v10zm4 0h-2v-4h2v4z\"/>\n",
              "    </g>\n",
              "</svg>\n",
              "  </button>\n",
              "\n",
              "<style>\n",
              "  .colab-df-quickchart {\n",
              "    background-color: #E8F0FE;\n",
              "    border: none;\n",
              "    border-radius: 50%;\n",
              "    cursor: pointer;\n",
              "    display: none;\n",
              "    fill: #1967D2;\n",
              "    height: 32px;\n",
              "    padding: 0 0 0 0;\n",
              "    width: 32px;\n",
              "  }\n",
              "\n",
              "  .colab-df-quickchart:hover {\n",
              "    background-color: #E2EBFA;\n",
              "    box-shadow: 0px 1px 2px rgba(60, 64, 67, 0.3), 0px 1px 3px 1px rgba(60, 64, 67, 0.15);\n",
              "    fill: #174EA6;\n",
              "  }\n",
              "\n",
              "  [theme=dark] .colab-df-quickchart {\n",
              "    background-color: #3B4455;\n",
              "    fill: #D2E3FC;\n",
              "  }\n",
              "\n",
              "  [theme=dark] .colab-df-quickchart:hover {\n",
              "    background-color: #434B5C;\n",
              "    box-shadow: 0px 1px 3px 1px rgba(0, 0, 0, 0.15);\n",
              "    filter: drop-shadow(0px 1px 2px rgba(0, 0, 0, 0.3));\n",
              "    fill: #FFFFFF;\n",
              "  }\n",
              "</style>\n",
              "\n",
              "  <script>\n",
              "    async function quickchart(key) {\n",
              "      const charts = await google.colab.kernel.invokeFunction(\n",
              "          'suggestCharts', [key], {});\n",
              "    }\n",
              "    (() => {\n",
              "      let quickchartButtonEl =\n",
              "        document.querySelector('#df-7a1929ea-9251-4a8d-b3d9-3d2ec348e868 button');\n",
              "      quickchartButtonEl.style.display =\n",
              "        google.colab.kernel.accessAllowed ? 'block' : 'none';\n",
              "    })();\n",
              "  </script>\n",
              "</div>\n",
              "    </div>\n",
              "  </div>\n"
            ]
          },
          "metadata": {},
          "execution_count": 189
        }
      ]
    },
    {
      "cell_type": "markdown",
      "source": [
        "**Transformación de la variable tipo Fecha**"
      ],
      "metadata": {
        "id": "Mml6mift7-SW"
      },
      "id": "Mml6mift7-SW"
    },
    {
      "cell_type": "code",
      "source": [
        "df_fecha = pd.DataFrame(pd.to_datetime(australian_weather_data['Date']))\n",
        "df_fecha['Date_Month'] = df_fecha['Date'].dt.month\n",
        "df_fecha.drop('Date', axis=1, inplace=True)\n"
      ],
      "metadata": {
        "id": "8nK1jt0q8Cq1"
      },
      "id": "8nK1jt0q8Cq1",
      "execution_count": 257,
      "outputs": []
    },
    {
      "cell_type": "code",
      "source": [
        "MesesDummies = pd.get_dummies(df_fecha['Date_Month'],prefix='Date_Month')"
      ],
      "metadata": {
        "id": "X-lsgVI28Clv"
      },
      "id": "X-lsgVI28Clv",
      "execution_count": 262,
      "outputs": []
    },
    {
      "cell_type": "code",
      "source": [
        "#hago este cambio de nombres para no alterar lo que viene posteriormente\n",
        "nuevos_column_names = {\n",
        "    'Date_Month_1': 'Date_Month_01',\n",
        "    'Date_Month_2': 'Date_Month_02',\n",
        "    'Date_Month_3': 'Date_Month_03',\n",
        "    'Date_Month_4': 'Date_Month_04',\n",
        "    'Date_Month_5': 'Date_Month_05',\n",
        "    'Date_Month_6': 'Date_Month_06',\n",
        "    'Date_Month_7': 'Date_Month_07',\n",
        "    'Date_Month_8': 'Date_Month_08',\n",
        "    'Date_Month_9': 'Date_Month_09',\n",
        "}\n",
        "MesesDummies.rename(columns=nuevos_column_names, inplace=True)\n"
      ],
      "metadata": {
        "id": "HhX69LywTm5j"
      },
      "id": "HhX69LywTm5j",
      "execution_count": 265,
      "outputs": []
    },
    {
      "cell_type": "markdown",
      "source": [
        "**Encoding de la variable de salida: RainTomorrow**"
      ],
      "metadata": {
        "id": "mDZNDHC6BNQ5"
      },
      "id": "mDZNDHC6BNQ5"
    },
    {
      "cell_type": "code",
      "source": [
        "# One Hot Encoder\n",
        "oheSalisa = OneHotEncoder(categories='auto',drop='first', sparse_output=False)"
      ],
      "metadata": {
        "id": "4bvQZcxwBXyC"
      },
      "id": "4bvQZcxwBXyC",
      "execution_count": 192,
      "outputs": []
    },
    {
      "cell_type": "code",
      "source": [
        "ohe.fit(df2[['RainTomorrow']].fillna('NA'))"
      ],
      "metadata": {
        "colab": {
          "base_uri": "https://localhost:8080/",
          "height": 74
        },
        "id": "XgarYVnrBb_v",
        "outputId": "b2ff746e-01df-4c31-d65b-62e765a0702e"
      },
      "id": "XgarYVnrBb_v",
      "execution_count": 193,
      "outputs": [
        {
          "output_type": "execute_result",
          "data": {
            "text/plain": [
              "OneHotEncoder(drop='first', sparse_output=False)"
            ],
            "text/html": [
              "<style>#sk-container-id-10 {color: black;background-color: white;}#sk-container-id-10 pre{padding: 0;}#sk-container-id-10 div.sk-toggleable {background-color: white;}#sk-container-id-10 label.sk-toggleable__label {cursor: pointer;display: block;width: 100%;margin-bottom: 0;padding: 0.3em;box-sizing: border-box;text-align: center;}#sk-container-id-10 label.sk-toggleable__label-arrow:before {content: \"▸\";float: left;margin-right: 0.25em;color: #696969;}#sk-container-id-10 label.sk-toggleable__label-arrow:hover:before {color: black;}#sk-container-id-10 div.sk-estimator:hover label.sk-toggleable__label-arrow:before {color: black;}#sk-container-id-10 div.sk-toggleable__content {max-height: 0;max-width: 0;overflow: hidden;text-align: left;background-color: #f0f8ff;}#sk-container-id-10 div.sk-toggleable__content pre {margin: 0.2em;color: black;border-radius: 0.25em;background-color: #f0f8ff;}#sk-container-id-10 input.sk-toggleable__control:checked~div.sk-toggleable__content {max-height: 200px;max-width: 100%;overflow: auto;}#sk-container-id-10 input.sk-toggleable__control:checked~label.sk-toggleable__label-arrow:before {content: \"▾\";}#sk-container-id-10 div.sk-estimator input.sk-toggleable__control:checked~label.sk-toggleable__label {background-color: #d4ebff;}#sk-container-id-10 div.sk-label input.sk-toggleable__control:checked~label.sk-toggleable__label {background-color: #d4ebff;}#sk-container-id-10 input.sk-hidden--visually {border: 0;clip: rect(1px 1px 1px 1px);clip: rect(1px, 1px, 1px, 1px);height: 1px;margin: -1px;overflow: hidden;padding: 0;position: absolute;width: 1px;}#sk-container-id-10 div.sk-estimator {font-family: monospace;background-color: #f0f8ff;border: 1px dotted black;border-radius: 0.25em;box-sizing: border-box;margin-bottom: 0.5em;}#sk-container-id-10 div.sk-estimator:hover {background-color: #d4ebff;}#sk-container-id-10 div.sk-parallel-item::after {content: \"\";width: 100%;border-bottom: 1px solid gray;flex-grow: 1;}#sk-container-id-10 div.sk-label:hover label.sk-toggleable__label {background-color: #d4ebff;}#sk-container-id-10 div.sk-serial::before {content: \"\";position: absolute;border-left: 1px solid gray;box-sizing: border-box;top: 0;bottom: 0;left: 50%;z-index: 0;}#sk-container-id-10 div.sk-serial {display: flex;flex-direction: column;align-items: center;background-color: white;padding-right: 0.2em;padding-left: 0.2em;position: relative;}#sk-container-id-10 div.sk-item {position: relative;z-index: 1;}#sk-container-id-10 div.sk-parallel {display: flex;align-items: stretch;justify-content: center;background-color: white;position: relative;}#sk-container-id-10 div.sk-item::before, #sk-container-id-10 div.sk-parallel-item::before {content: \"\";position: absolute;border-left: 1px solid gray;box-sizing: border-box;top: 0;bottom: 0;left: 50%;z-index: -1;}#sk-container-id-10 div.sk-parallel-item {display: flex;flex-direction: column;z-index: 1;position: relative;background-color: white;}#sk-container-id-10 div.sk-parallel-item:first-child::after {align-self: flex-end;width: 50%;}#sk-container-id-10 div.sk-parallel-item:last-child::after {align-self: flex-start;width: 50%;}#sk-container-id-10 div.sk-parallel-item:only-child::after {width: 0;}#sk-container-id-10 div.sk-dashed-wrapped {border: 1px dashed gray;margin: 0 0.4em 0.5em 0.4em;box-sizing: border-box;padding-bottom: 0.4em;background-color: white;}#sk-container-id-10 div.sk-label label {font-family: monospace;font-weight: bold;display: inline-block;line-height: 1.2em;}#sk-container-id-10 div.sk-label-container {text-align: center;}#sk-container-id-10 div.sk-container {/* jupyter's `normalize.less` sets `[hidden] { display: none; }` but bootstrap.min.css set `[hidden] { display: none !important; }` so we also need the `!important` here to be able to override the default hidden behavior on the sphinx rendered scikit-learn.org. See: https://github.com/scikit-learn/scikit-learn/issues/21755 */display: inline-block !important;position: relative;}#sk-container-id-10 div.sk-text-repr-fallback {display: none;}</style><div id=\"sk-container-id-10\" class=\"sk-top-container\"><div class=\"sk-text-repr-fallback\"><pre>OneHotEncoder(drop=&#x27;first&#x27;, sparse_output=False)</pre><b>In a Jupyter environment, please rerun this cell to show the HTML representation or trust the notebook. <br />On GitHub, the HTML representation is unable to render, please try loading this page with nbviewer.org.</b></div><div class=\"sk-container\" hidden><div class=\"sk-item\"><div class=\"sk-estimator sk-toggleable\"><input class=\"sk-toggleable__control sk-hidden--visually\" id=\"sk-estimator-id-10\" type=\"checkbox\" checked><label for=\"sk-estimator-id-10\" class=\"sk-toggleable__label sk-toggleable__label-arrow\">OneHotEncoder</label><div class=\"sk-toggleable__content\"><pre>OneHotEncoder(drop=&#x27;first&#x27;, sparse_output=False)</pre></div></div></div></div></div>"
            ]
          },
          "metadata": {},
          "execution_count": 193
        }
      ]
    },
    {
      "cell_type": "code",
      "source": [
        "df2[['RainTomorrow']] = ohe.transform(df2[['RainTomorrow']].fillna('NA'))"
      ],
      "metadata": {
        "id": "NYxj4LwsBgin"
      },
      "id": "NYxj4LwsBgin",
      "execution_count": 194,
      "outputs": []
    },
    {
      "cell_type": "markdown",
      "id": "179cee74",
      "metadata": {
        "id": "179cee74"
      },
      "source": [
        "## 3.2 Ingeniería de features"
      ]
    },
    {
      "cell_type": "markdown",
      "id": "4da71ee2",
      "metadata": {
        "id": "4da71ee2"
      },
      "source": [
        "Vamos a comenzar limpiando un poco el dataset resultante de los pasos anteriores"
      ]
    },
    {
      "cell_type": "code",
      "source": [
        "df2.drop(\n",
        " ['Date',\n",
        " 'Location',\n",
        " 'WindGustDir',\n",
        " 'WindDir9am',\n",
        " 'WindDir3pm'],\n",
        " axis=1, inplace=True\n",
        ")\n"
      ],
      "metadata": {
        "id": "FNmnmfSjEqTT"
      },
      "id": "FNmnmfSjEqTT",
      "execution_count": 199,
      "outputs": []
    },
    {
      "cell_type": "code",
      "source": [
        "df_encoded_aux = pd.merge(df2, location_encoded, left_index=True, right_index=True)\n",
        "df_encoded = pd.merge(df_encoded_aux, MesesDummies, left_index=True, right_index=True)\n"
      ],
      "metadata": {
        "id": "fSUzJNjWAotx"
      },
      "id": "fSUzJNjWAotx",
      "execution_count": 267,
      "outputs": []
    },
    {
      "cell_type": "code",
      "execution_count": 277,
      "id": "f2c4d916",
      "metadata": {
        "colab": {
          "base_uri": "https://localhost:8080/"
        },
        "id": "f2c4d916",
        "outputId": "faee4cfe-23d0-4c70-bf2c-c8e53f66a3b1"
      },
      "outputs": [
        {
          "output_type": "stream",
          "name": "stdout",
          "text": [
            "<class 'pandas.core.frame.DataFrame'>\n",
            "Int64Index: 120336 entries, 0 to 145458\n",
            "Data columns (total 43 columns):\n",
            " #   Column              Non-Null Count   Dtype  \n",
            "---  ------              --------------   -----  \n",
            " 0   MinTemp             120336 non-null  float64\n",
            " 1   MaxTemp             120336 non-null  float64\n",
            " 2   Rainfall            120336 non-null  float64\n",
            " 3   WindGustSpeed       120336 non-null  float64\n",
            " 4   WindSpeed9am        120336 non-null  float64\n",
            " 5   WindSpeed3pm        120336 non-null  float64\n",
            " 6   Humidity9am         120336 non-null  float64\n",
            " 7   Humidity3pm         120336 non-null  float64\n",
            " 8   Pressure9am         120336 non-null  float64\n",
            " 9   Pressure3pm         120336 non-null  float64\n",
            " 10  Temp9am             120336 non-null  float64\n",
            " 11  Temp3pm             120336 non-null  float64\n",
            " 12  RainToday           120336 non-null  float64\n",
            " 13  RainTomorrow        120336 non-null  float64\n",
            " 14  angulo_WindGustDir  120321 non-null  float64\n",
            " 15  x_WindGustDir       120321 non-null  float64\n",
            " 16  y_WindGustDir       120321 non-null  float64\n",
            " 17  angulo_WindDir9am   114048 non-null  float64\n",
            " 18  x_WindDir9am        114048 non-null  float64\n",
            " 19  y_WindDir9am        114048 non-null  float64\n",
            " 20  angulo_WindDir3pm   119760 non-null  float64\n",
            " 21  x_WindDir3pm        119760 non-null  float64\n",
            " 22  y_WindDir3pm        119760 non-null  float64\n",
            " 23  mes                 120336 non-null  int64  \n",
            " 24  anio                120336 non-null  int64  \n",
            " 25  Location_0          120336 non-null  int64  \n",
            " 26  Location_1          120336 non-null  int64  \n",
            " 27  Location_2          120336 non-null  int64  \n",
            " 28  Location_3          120336 non-null  int64  \n",
            " 29  Location_4          120336 non-null  int64  \n",
            " 30  Location_5          120336 non-null  int64  \n",
            " 31  Date_Month_01       120336 non-null  uint8  \n",
            " 32  Date_Month_02       120336 non-null  uint8  \n",
            " 33  Date_Month_03       120336 non-null  uint8  \n",
            " 34  Date_Month_04       120336 non-null  uint8  \n",
            " 35  Date_Month_05       120336 non-null  uint8  \n",
            " 36  Date_Month_06       120336 non-null  uint8  \n",
            " 37  Date_Month_07       120336 non-null  uint8  \n",
            " 38  Date_Month_08       120336 non-null  uint8  \n",
            " 39  Date_Month_09       120336 non-null  uint8  \n",
            " 40  Date_Month_10       120336 non-null  uint8  \n",
            " 41  Date_Month_11       120336 non-null  uint8  \n",
            " 42  Date_Month_12       120336 non-null  uint8  \n",
            "dtypes: float64(23), int64(8), uint8(12)\n",
            "memory usage: 30.8 MB\n"
          ]
        }
      ],
      "source": [
        "df_encoded.info()"
      ]
    }
  ],
  "metadata": {
    "kernelspec": {
      "display_name": "Python 3 (ipykernel)",
      "language": "python",
      "name": "python3"
    },
    "language_info": {
      "codemirror_mode": {
        "name": "ipython",
        "version": 3
      },
      "file_extension": ".py",
      "mimetype": "text/x-python",
      "name": "python",
      "nbconvert_exporter": "python",
      "pygments_lexer": "ipython3",
      "version": "3.11.3"
    },
    "colab": {
      "provenance": [],
      "include_colab_link": true
    }
  },
  "nbformat": 4,
  "nbformat_minor": 5
}